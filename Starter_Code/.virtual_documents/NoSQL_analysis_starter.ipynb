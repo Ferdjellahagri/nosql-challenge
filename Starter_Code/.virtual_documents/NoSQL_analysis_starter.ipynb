





from pymongo import MongoClient
import pandas as pd
from pprint import pprint


# The default port used by MongoDB is 27017
# https://docs.mongodb.com/manual/reference/default-mongodb-port/
mongo = MongoClient(port=27017)

# Define the 'classDB' database in Mongo
db = mongo.classDB


# Create an instance of MongoClient
mongo.list_database_names()


# assign the uk_food database to a variable name
db = mongo['uk_food']


# review the collections in our database
print(db.list_collection_names())


# assign the collection to a variable
establishments = db['establishments']








# Find the establishments with a hygiene score of 20
query = {'scores.Hygiene': 20}

# Use count_documents to display the number of documents in the result
print("Number of documents in result:", establishments.count_documents(query))

# Display the first document in the results using pprint
print("First result:")
result = establishments.find_one(query)
pprint(result)


# Convert the result to a Pandas DataFrame
result_df = pd.DataFrame(results)

# Display the number of rows in the DataFrame
print("Rows in DataFrame: ", len(result_df))

# Display the first 10 rows of the DataFrame
result_df.head()





# Find the establishments with London as the Local Authority and has a RatingValue greater than or equal to 4.
query_london = {'LocalAuthorityName':{'$regex':'London'}, 'RatingValue':{'$gte':'4'}}

# Use count_documents to display the number of documents in the result
print("number of documents:", establishments.count_documents(query_london))

# Display the first document in the results using pprint

pprint("First document:")
results_london = establishments.find(query_london)
# pretty print the first document
for i in range(1):
    pprint(results_london[i])


# Convert the result to a Pandas DataFrame
result_london_df = pd.DataFrame(results_london)
# Display the number of rows in the DataFrame
print("Rows in DataFrame: ", len(result_london_df))
# Display the first 10 rows of the DataFrame
result_london_df.head(10)





#search for "penang flavours"
query = {'BusinessName': 'Penang Flavours'}
results = establishments.find(query)
for result in results:
    pprint(result)


# Search within 0.01 degree on either side of the latitude and longitude.
# Rating value must equal 5
# Sort by hygiene score

degree_search = 0.01
latitude = 51.49014200
longitude = 0.08384000


query = {'geocode.latitude':{'$lte':latitude+degree_search, '$gte':latitude-degree_search},
         'geocode.longitude':{'$lte':longitude+degree_search, '$gte':longitude-degree_search},'RatingValue':{'$eq':'5'}} 
sort =  [('scores.Hygiene',1)]
                                              
limit =5

# results_penang = list(establishments.find(query).limit(limit))
results = list(establishments.find(query).sort(sort).limit(limit))
# Print the results
pprint(results)


# Convert result to Pandas DataFrame
penang_df = pd.DataFrame(results)
penang_df 





# Create a pipeline that: 
# 1. Matches establishments with a hygiene score of 0

match_query = {'$match': {'scores.Hygiene':{'$eq': 0}}}

 # 2. Groups the matches by Local Authority              
group_query = {'$group': {'_id': "$LocalAuthorityName", 'count': { '$sum': 1 }}}
               
# 3. Sorts the matches from highest to lowest
sort_values = {'$sort': { 'count': -1 }}
               
 # Put the pipeline together              
pipeline = [match_query, group_query, sort_values]
 
# Run the pipeline through the aggregate method, cast the results as a list, and save the results to a variable
results = list(establishments.aggregate(pipeline))
               
# Print the number of documents in the result
print("Number of rows in result: ", len(results))
               
# Print the first 10 results
pprint(results[0:10])


# Convert the result to a Pandas DataFrame
result_df = pd.DataFrame(results)

# Display the number of rows in the DataFrame
print("Rows in DataFrame: ", len(result_df))


# Display the first 10 rows of the DataFrame
result_df.head()




