








# Import dependencies
from pymongo import MongoClient
from pprint import pprint


# Create an instance of MongoClient
mongo = MongoClient(port=27017)


# confirm that our new database was created
# confirm that our new database was created
print(mongo.list_database_names())


# assign the uk_food database to a variable name
db = mongo['uk_food']


# review the collections in our new database
print(db.list_collection_names())


# review the collections in our new database
print(db.list_collection_names())


# review a document in the establishments collection
pprint(db.establishments.find_one())


# assign the collection to a variable
establishments = db['establishments']








# Create a dictionary for the new restaurant data

new_restaurant= {
    "BusinessName":"Penang Flavours",
    "BusinessType":"Restaurant/Cafe/Canteen",
    "BusinessTypeID":"",
    "AddressLine1":"Penang Flavours",
    "AddressLine2":"146A Plumstead Rd",
    "AddressLine3":"London",
    "AddressLine4":"",
    "PostCode":"SE18 7DY",
    "Phone":"",
    "LocalAuthorityCode":"511",
    "LocalAuthorityName":"Greenwich",
    "LocalAuthorityWebSite":"http://www.royalgreenwich.gov.uk",
    "LocalAuthorityEmailAddress":"health@royalgreenwich.gov.uk",
    "scores":{
        "Hygiene":"",
        "Structural":"",
        "ConfidenceInManagement":""
    },
    "SchemeType":"FHRS",
    "geocode":{
        "longitude":"0.08384000",
        "latitude":"51.49014200"
    },
    "RightToReply":"",
    "Distance":4623.9723280747176,
    "NewRatingPending":True
}


# Insert the new restaurant into the collection
establishments.insert_one(new_restaurant)



# Check that the new restaurant was inserted
# Filter results by name
query = {'BusinessName': 'Penang Flavours'}
results = establishments.find(query)
for result in results:
    pprint(result)





# Find the BusinessTypeID for "Restaurant/Cafe/Canteen" and return only the BusinessTypeID and BusinessType fields
# Find the BusinessTypeID for "Restaurant/Cafe/Canteen" and return only the BusinessTypeID and BusinessType fields
query = {'BusinessType': 'Restaurant/Cafe/Canteen'}
results = establishments.find(query)
for result in results:
    first= result['BusinessTypeID']
    second= result['BusinessType']
    pprint(f'{first} : {second}')





# Update the new restaurant with the correct BusinessTypeID
db.establishments.update_one(
    {'BusinessName': 'Penang Flavours'},
    {'$set':
        {'BusinessTypeID': 1}
     }
)


# Confirm that the new restaurant was updated
# Confirm that the new restaurant was updated
pprint(establishments.find_one({'BusinessName': 'Penang Flavours'}))





# Find how many documents have LocalAuthorityName as "Dover"
query_dover = {'LocalAuthorityName':{'$regex':'Dover'}, }

print("Number of documents in result:", establishments.count_documents(query_dover))


# Delete all documents where LocalAuthorityName is "Dover"
establishments.delete_many({'LocalAuthorityName':{'$regex':'Dover'},} )


# Check if any remaining documents include Dover
# Check if any remaining documents include Dover
query_dover = {'LocalAuthorityName':{'$regex':'Dover'}, }

print("Number of documents in result:", establishments.count_documents(query_dover))


# Check that other documents remain with 'find_one'
# Check that other documents remain with 'find_one'
pprint(establishments.find_one())








# Change the data type from String to Decimal for longitude and latitude.
establishments.update_many({}, [ {'$set':{ "geocode.longitude" : {'$toDouble': "$geocode.longitude"}}} ])
establishments.update_many({}, [ {'$set':{ "geocode.latitude" : {'$toDouble': "$geocode.latitude"}}} ])





# Set non 1-5 Rating Values to Null
non_ratings = ["AwaitingInspection", "Awaiting Inspection", "AwaitingPublication", "Pass", "Exempt"]
establishments.update_many({"RatingValue": {"$in": non_ratings}}, [ {'$set':{ "RatingValue" : None}} ])


collection = db['establishments']

# Find all documents where RatingValue is a string
string_rating_docs = collection.find({"RatingValue": {"$type": "string"}})

# Iterate over each document and update the RatingValue to an integer
for doc in string_rating_docs:
    try:
        # Convert RatingValue to integer
        new_rating_value = int(doc["RatingValue"])
        
        # Update the document
        collection.update_one(
            {"_id": doc["_id"]},
            {"$set": {"RatingValue": new_rating_value}}
        )
        print(f"Updated document ID {doc['_id']}: RatingValue {doc['RatingValue']} -> {new_rating_value}")
    except ValueError:
        print(f"Skipping document ID {doc['_id']}: RatingValue {doc['RatingValue']} is not a valid integer")

print("Conversion complete.")


# Check that the coordinates and rating value are now numbers
pprint(establishments.find_one())



